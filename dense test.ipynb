{
 "cells": [
  {
   "cell_type": "code",
   "execution_count": 2,
   "metadata": {},
   "outputs": [],
   "source": [
    "import tensorflow as tf\n",
    "import tensorflow.keras as keras\n",
    "import cv2\n",
    "from src.lab1.lab1_challenge2 import *\n",
    "from src.lab1.info_image import *\n",
    "import numpy as np\n",
    "from tensorflow.keras.models import Sequential\n",
    "from tensorflow.keras.layers import Conv2D, MaxPooling2D, ZeroPadding2D, Flatten, Dense, Dropout\n",
    "from tensorflow.keras.optimizers import SGD\n",
    "from src.lab3.lab3 import *\n",
    "from tensorflow.train import Saver\n",
    "\n",
    "SIZE = 7"
   ]
  },
  {
   "cell_type": "code",
   "execution_count": 3,
   "metadata": {},
   "outputs": [
    {
     "name": "stderr",
     "output_type": "stream",
     "text": [
      "IOPub data rate exceeded.\n",
      "The notebook server will temporarily stop sending output\n",
      "to the client in order to avoid crashing it.\n",
      "To change this limit, set the config variable\n",
      "`--NotebookApp.iopub_data_rate_limit`.\n",
      "\n",
      "Current values:\n",
      "NotebookApp.iopub_data_rate_limit=1000000.0 (bytes/sec)\n",
      "NotebookApp.rate_limit_window=3.0 (secs)\n",
      "\n"
     ]
    }
   ],
   "source": [
    "data = get_all_masks(10)\n",
    "X_train = []; y_train = []\n",
    "test_data = 0\n",
    "# On crée les jeux d'entrainements....\n",
    "for img_name, mask in data:\n",
    "    img = cv2.imread(img_name, 0)\n",
    "    for (roi, center, w, h, angle) in sliding_windows(mask, SIZE, SIZE):\n",
    "        x = extract_batch(img, center, SIZE, SIZE)\n",
    "        y = extract_mask(mask, center, SIZE, SIZE)\n",
    "        if x is not None and y is not None:\n",
    "            X_train.append(x)\n",
    "            y_train.append(y)\n",
    "            test_data += 1\n",
    "print(y_train)\n",
    "print(\"Nombre d'imagette : \", test_data)"
   ]
  },
  {
   "cell_type": "markdown",
   "metadata": {},
   "source": [
    "### Déclaration du modele fully conected"
   ]
  },
  {
   "cell_type": "code",
   "execution_count": null,
   "metadata": {},
   "outputs": [
    {
     "name": "stdout",
     "output_type": "stream",
     "text": [
      "_________________________________________________________________\n",
      "Layer (type)                 Output Shape              Param #   \n",
      "=================================================================\n",
      "flatten (Flatten)            (None, 49)                0         \n",
      "_________________________________________________________________\n",
      "dense (Dense)                (None, 98)                4900      \n",
      "_________________________________________________________________\n",
      "dense_1 (Dense)              (None, 98)                9702      \n",
      "_________________________________________________________________\n",
      "dense_2 (Dense)              (None, 2)                 198       \n",
      "=================================================================\n",
      "Total params: 14,800\n",
      "Trainable params: 14,800\n",
      "Non-trainable params: 0\n",
      "_________________________________________________________________\n"
     ]
    }
   ],
   "source": [
    "model = Sequential()\n",
    "model.add(Flatten(input_shape=(SIZE, SIZE)))\n",
    "model.add(Dense(98, activation = \"relu\"))\n",
    "model.add(Dense(98, activation=\"relu\"))\n",
    "model.add(Dense(2, activation=\"softmax\"))\n",
    "\n",
    "model.compile(optimizer=tf.train.AdamOptimizer(),\n",
    "              loss='sparse_categorical_crossentropy',\n",
    "              metrics=['acc'])\n",
    "\n",
    "model.summary()"
   ]
  },
  {
   "cell_type": "markdown",
   "metadata": {},
   "source": [
    "### Entrainement"
   ]
  },
  {
   "cell_type": "code",
   "execution_count": null,
   "metadata": {},
   "outputs": [],
   "source": [
    "X_train = np.array(X_train)\n",
    "y_train = y_train\n",
    "history = model.fit(X_train,\n",
    "                    y_train, epochs = 5)"
   ]
  },
  {
   "cell_type": "markdown",
   "metadata": {},
   "source": [
    "### Test"
   ]
  },
  {
   "cell_type": "code",
   "execution_count": null,
   "metadata": {},
   "outputs": [],
   "source": [
    "print(SIZE)\n",
    "test_data = get_test_masks()[:3]\n",
    "for img_name, mask in test_data:\n",
    "    list_good = []\n",
    "    list_to_predict = []\n",
    "    img = cv2.imread(img_name,0)\n",
    "    x_size = mask.shape[0]//SIZE\n",
    "    y_size = mask.shape[1]//SIZE\n",
    "    for (roi, center, w, h, angle) in sliding_windows(mask, SIZE, SIZE):\n",
    "        d = extract_batch(img, center, SIZE, SIZE)\n",
    "        m = extract_mask(mask, center, SIZE, SIZE)\n",
    "        if d is not None and m is not None:\n",
    "            list_good.append(m)\n",
    "            list_to_predict.append(d)\n",
    "\n",
    "    print(\"test batches\", len(list_to_predict))\n",
    "    prediction = model.predict(np.array(list_to_predict))\n",
    "    print(\"prediction shape\", prediction.shape)\n",
    "    print(\"image\", img_name)\n",
    "\n",
    "    img_reconstruct = np.zeros(img.shape)\n",
    "\n",
    "    for x in range(x_size):\n",
    "        for y in range(y_size):\n",
    "            l = x * x_size + y\n",
    "            print(prediction[l])\n",
    "            if prediction[l][1] > 0.5:\n",
    "                img_reconstruct[x*SIZE:(x+1)*SIZE, y*SIZE:(y+1)*SIZE] = img[x*SIZE:(x+1)*SIZE, y*SIZE:(y+1)*SIZE]\n",
    "\n",
    "    print(\"saved image\", img_name[0] + \"test_model.png\")\n",
    "    cv2.imwrite(img_name[0] + \"test_model.png\", img_reconstruct)"
   ]
  }
 ],
 "metadata": {
  "kernelspec": {
   "display_name": "Python 3",
   "language": "python",
   "name": "python3"
  },
  "language_info": {
   "codemirror_mode": {
    "name": "ipython",
    "version": 3
   },
   "file_extension": ".py",
   "mimetype": "text/x-python",
   "name": "python",
   "nbconvert_exporter": "python",
   "pygments_lexer": "ipython3",
   "version": "3.6.7"
  }
 },
 "nbformat": 4,
 "nbformat_minor": 2
}
